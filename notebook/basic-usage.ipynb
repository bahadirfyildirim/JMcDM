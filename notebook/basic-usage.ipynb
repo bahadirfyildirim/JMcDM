{
 "cells": [
  {
   "cell_type": "code",
   "execution_count": 15,
   "metadata": {},
   "outputs": [],
   "source": [
    "using JMcDM"
   ]
  },
  {
   "cell_type": "code",
   "execution_count": 16,
   "metadata": {},
   "outputs": [],
   "source": [
    "using DataFrames"
   ]
  },
  {
   "cell_type": "code",
   "execution_count": 17,
   "metadata": {},
   "outputs": [
    {
     "data": {
      "text/html": [
       "<div class=\"data-frame\"><p>4 rows × 3 columns</p><table class=\"data-frame\"><thead><tr><th></th><th>criterion1</th><th>criterion2</th><th>criterion3</th></tr><tr><th></th><th title=\"Float64\">Float64</th><th title=\"Float64\">Float64</th><th title=\"Float64\">Float64</th></tr></thead><tbody><tr><th>1</th><td>1.0</td><td>2.0</td><td>4.0</td></tr><tr><th>2</th><td>2.0</td><td>3.0</td><td>3.0</td></tr><tr><th>3</th><td>3.0</td><td>1.0</td><td>1.0</td></tr><tr><th>4</th><td>4.0</td><td>4.0</td><td>2.0</td></tr></tbody></table></div>"
      ],
      "text/latex": [
       "\\begin{tabular}{r|ccc}\n",
       "\t& criterion1 & criterion2 & criterion3\\\\\n",
       "\t\\hline\n",
       "\t& Float64 & Float64 & Float64\\\\\n",
       "\t\\hline\n",
       "\t1 & 1.0 & 2.0 & 4.0 \\\\\n",
       "\t2 & 2.0 & 3.0 & 3.0 \\\\\n",
       "\t3 & 3.0 & 1.0 & 1.0 \\\\\n",
       "\t4 & 4.0 & 4.0 & 2.0 \\\\\n",
       "\\end{tabular}\n"
      ],
      "text/plain": [
       "\u001b[1m4×3 DataFrame\u001b[0m\n",
       "\u001b[1m Row \u001b[0m│\u001b[1m criterion1 \u001b[0m\u001b[1m criterion2 \u001b[0m\u001b[1m criterion3 \u001b[0m\n",
       "\u001b[1m     \u001b[0m│\u001b[90m Float64    \u001b[0m\u001b[90m Float64    \u001b[0m\u001b[90m Float64    \u001b[0m\n",
       "─────┼────────────────────────────────────\n",
       "   1 │        1.0         2.0         4.0\n",
       "   2 │        2.0         3.0         3.0\n",
       "   3 │        3.0         1.0         1.0\n",
       "   4 │        4.0         4.0         2.0"
      ]
     },
     "execution_count": 17,
     "metadata": {},
     "output_type": "execute_result"
    }
   ],
   "source": [
    "df = DataFrame(\n",
    "    criterion1 = [1.0, 2.0, 3.0, 4.0],\n",
    "    criterion2 = [2.0, 3.0, 1.0, 4.0],\n",
    "    criterion3 = [4.0, 3.0, 1.0, 2.0]\n",
    ")"
   ]
  },
  {
   "cell_type": "code",
   "execution_count": 18,
   "metadata": {},
   "outputs": [
    {
     "data": {
      "text/plain": [
       "3-element Vector{Float64}:\n",
       " 0.3\n",
       " 0.3\n",
       " 0.4"
      ]
     },
     "execution_count": 18,
     "metadata": {},
     "output_type": "execute_result"
    }
   ],
   "source": [
    "w = [0.3, 0.3, 0.4]"
   ]
  },
  {
   "cell_type": "code",
   "execution_count": 19,
   "metadata": {},
   "outputs": [
    {
     "data": {
      "text/plain": [
       "3-element Vector{Function}:\n",
       " maximum (generic function with 16 methods)\n",
       " maximum (generic function with 16 methods)\n",
       " maximum (generic function with 16 methods)"
      ]
     },
     "execution_count": 19,
     "metadata": {},
     "output_type": "execute_result"
    }
   ],
   "source": [
    "fns = makeminmax([maximum, maximum, maximum])"
   ]
  },
  {
   "cell_type": "code",
   "execution_count": 20,
   "metadata": {},
   "outputs": [
    {
     "data": {
      "text/plain": [
       "Scores:\n",
       "[0.5334828131703736, 0.5720541556753176, 0.2817290466902531, 0.6251463814648187]\n",
       "Best indices:\n",
       "4\n"
      ]
     },
     "execution_count": 20,
     "metadata": {},
     "output_type": "execute_result"
    }
   ],
   "source": [
    "topsis(df, w, fns)"
   ]
  },
  {
   "cell_type": "code",
   "execution_count": 21,
   "metadata": {},
   "outputs": [
    {
     "data": {
      "text/plain": [
       "Scores:\n",
       "[0.625, 0.675, 0.4, 0.8]\n",
       "Ranking: \n",
       "[4, 2, 1, 3]\n",
       "Best indices:\n",
       "4\n"
      ]
     },
     "execution_count": 21,
     "metadata": {},
     "output_type": "execute_result"
    }
   ],
   "source": [
    "saw(df, w, fns)"
   ]
  },
  {
   "cell_type": "code",
   "execution_count": 22,
   "metadata": {},
   "outputs": [
    {
     "data": {
      "text/plain": [
       "Scores:\n",
       "[0.625, 0.6749999999999999, 0.39999999999999997, 0.7999999999999999]\n",
       "Orderings: \n",
       "[3, 1, 2, 4]\n",
       "Best indices:\n",
       "4\n"
      ]
     },
     "execution_count": 22,
     "metadata": {},
     "output_type": "execute_result"
    }
   ],
   "source": [
    "aras(df, w, fns)"
   ]
  },
  {
   "cell_type": "code",
   "execution_count": 23,
   "metadata": {},
   "outputs": [
    {
     "data": {
      "text/plain": [
       "Scores:\n",
       "[0.5804433656340733, 0.6695503099858335, 0.37379864628948867, 0.7789291416275995]\n",
       "Ranking: \n",
       "[3, 1, 2, 4]\n",
       "Best indices:\n",
       "4\n"
      ]
     },
     "execution_count": 23,
     "metadata": {},
     "output_type": "execute_result"
    }
   ],
   "source": [
    "waspas(df, w, fns)"
   ]
  },
  {
   "cell_type": "code",
   "execution_count": 24,
   "metadata": {},
   "outputs": [
    {
     "data": {
      "text/plain": [
       "Scores:\n",
       "[0.04804094176904572, 0.11470760843571226, -0.2519590582309543, 0.281374275102379]\n",
       "Ranking: \n",
       "[3, 1, 2, 4]\n",
       "Best indices:\n",
       "4\n"
      ]
     },
     "execution_count": 24,
     "metadata": {},
     "output_type": "execute_result"
    }
   ],
   "source": [
    "mabac(df, w, fns)"
   ]
  },
  {
   "cell_type": "code",
   "execution_count": 25,
   "metadata": {},
   "outputs": [
    {
     "data": {
      "text/plain": [
       "Scores:\n",
       "[0.125, 0.10833333333333335, 0.2, 0.06666666666666668]\n",
       "Ranking: \n",
       "[4, 2, 1, 3]\n",
       "Best indices:\n",
       "4\n"
      ]
     },
     "execution_count": 25,
     "metadata": {},
     "output_type": "execute_result"
    }
   ],
   "source": [
    "mairca(df, w, fns)"
   ]
  },
  {
   "cell_type": "code",
   "execution_count": 26,
   "metadata": {},
   "outputs": [
    {
     "data": {
      "text/plain": [
       "Ranking: \n",
       "[2, 1, 3]\n",
       "Best indices:\n",
       "3\n"
      ]
     },
     "execution_count": 26,
     "metadata": {},
     "output_type": "execute_result"
    }
   ],
   "source": [
    "critic(df, fns)"
   ]
  },
  {
   "cell_type": "code",
   "execution_count": 27,
   "metadata": {},
   "outputs": [
    {
     "data": {
      "text/plain": [
       "Best indices:\n",
       "(4, 3)\n"
      ]
     },
     "execution_count": 27,
     "metadata": {},
     "output_type": "execute_result"
    }
   ],
   "source": [
    "electre(df, w, fns)"
   ]
  },
  {
   "cell_type": "code",
   "execution_count": 28,
   "metadata": {},
   "outputs": [
    {
     "data": {
      "text/plain": [
       "Scores:\n",
       "[0.5358867312681466, 0.6641006199716671, 0.34759729257897726, 0.757858283255199]\n",
       "Ranking: \n",
       "[3, 1, 2, 4]\n",
       "Best indices:\n",
       "4\n"
      ]
     },
     "execution_count": 28,
     "metadata": {},
     "output_type": "execute_result"
    }
   ],
   "source": [
    "wpm(df, w, fns)"
   ]
  },
  {
   "cell_type": "code",
   "execution_count": 29,
   "metadata": {},
   "outputs": [
    {
     "data": {
      "text/plain": [
       "Scores:\n",
       "[0.5476190476190477, 0.623015873015873, 0.08333333333333333, 0.9047619047619048]\n",
       "Ranking: \n",
       "[3, 1, 2, 4]\n",
       "Best indices:\n",
       "4\n"
      ]
     },
     "execution_count": 29,
     "metadata": {},
     "output_type": "execute_result"
    }
   ],
   "source": [
    "edas(df, w, fns)"
   ]
  },
  {
   "cell_type": "code",
   "execution_count": null,
   "metadata": {},
   "outputs": [],
   "source": []
  }
 ],
 "metadata": {
  "kernelspec": {
   "display_name": "Julia 1.7.0",
   "language": "julia",
   "name": "julia-1.7"
  },
  "language_info": {
   "file_extension": ".jl",
   "mimetype": "application/julia",
   "name": "julia",
   "version": "1.7.0"
  }
 },
 "nbformat": 4,
 "nbformat_minor": 4
}
